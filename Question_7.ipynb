{
 "cells": [
  {
   "cell_type": "code",
   "execution_count": 1,
   "metadata": {},
   "outputs": [],
   "source": [
    "import pandas as pd"
   ]
  },
  {
   "cell_type": "code",
   "execution_count": 2,
   "metadata": {},
   "outputs": [
    {
     "data": {
      "text/html": [
       "<div>\n",
       "<style scoped>\n",
       "    .dataframe tbody tr th:only-of-type {\n",
       "        vertical-align: middle;\n",
       "    }\n",
       "\n",
       "    .dataframe tbody tr th {\n",
       "        vertical-align: top;\n",
       "    }\n",
       "\n",
       "    .dataframe thead th {\n",
       "        text-align: right;\n",
       "    }\n",
       "</style>\n",
       "<table border=\"1\" class=\"dataframe\">\n",
       "  <thead>\n",
       "    <tr style=\"text-align: right;\">\n",
       "      <th></th>\n",
       "      <th>anonymous_id</th>\n",
       "      <th>business_zoned</th>\n",
       "      <th>context_app_version</th>\n",
       "      <th>context_device_id</th>\n",
       "      <th>context_os_name</th>\n",
       "      <th>event_name</th>\n",
       "      <th>received_at</th>\n",
       "      <th>created_at</th>\n",
       "    </tr>\n",
       "  </thead>\n",
       "  <tbody>\n",
       "    <tr>\n",
       "      <th>0</th>\n",
       "      <td>9DDC5BCD-0477-4E83-A32A-51013DA0A4E7</td>\n",
       "      <td>Hamburg</td>\n",
       "      <td>3.1.13</td>\n",
       "      <td>7A718FF6-584F-40E2-939D-224231295B1E</td>\n",
       "      <td>iOS</td>\n",
       "      <td>Out-Of-Business Zone View Shown</td>\n",
       "      <td>9/1/2020 23:59</td>\n",
       "      <td>9/1/2020 23:59</td>\n",
       "    </tr>\n",
       "    <tr>\n",
       "      <th>1</th>\n",
       "      <td>5592E78E-CE87-4258-B8D7-DD834A687A1E</td>\n",
       "      <td>Hamburg</td>\n",
       "      <td>3.1.13</td>\n",
       "      <td>11D0CB16-DA38-4565-9C3B-066E7877856C</td>\n",
       "      <td>iOS</td>\n",
       "      <td>Application Opened</td>\n",
       "      <td>9/1/2020 23:59</td>\n",
       "      <td>9/1/2020 23:59</td>\n",
       "    </tr>\n",
       "    <tr>\n",
       "      <th>2</th>\n",
       "      <td>5592E78E-CE87-4258-B8D7-DD834A687A1E</td>\n",
       "      <td>Hamburg</td>\n",
       "      <td>3.1.13</td>\n",
       "      <td>11D0CB16-DA38-4565-9C3B-066E7877856C</td>\n",
       "      <td>iOS</td>\n",
       "      <td>Ride Done - Successful</td>\n",
       "      <td>9/1/2020 23:59</td>\n",
       "      <td>9/1/2020 23:59</td>\n",
       "    </tr>\n",
       "    <tr>\n",
       "      <th>3</th>\n",
       "      <td>5592E78E-CE87-4258-B8D7-DD834A687A1E</td>\n",
       "      <td>Hamburg</td>\n",
       "      <td>3.1.13</td>\n",
       "      <td>11D0CB16-DA38-4565-9C3B-066E7877856C</td>\n",
       "      <td>iOS</td>\n",
       "      <td>Application Opened</td>\n",
       "      <td>9/1/2020 23:59</td>\n",
       "      <td>9/1/2020 23:37</td>\n",
       "    </tr>\n",
       "    <tr>\n",
       "      <th>4</th>\n",
       "      <td>5592E78E-CE87-4258-B8D7-DD834A687A1E</td>\n",
       "      <td>Hamburg</td>\n",
       "      <td>3.1.13</td>\n",
       "      <td>11D0CB16-DA38-4565-9C3B-066E7877856C</td>\n",
       "      <td>iOS</td>\n",
       "      <td>Ride Done - Unsuccessful</td>\n",
       "      <td>9/1/2020 23:59</td>\n",
       "      <td>9/1/2020 23:37</td>\n",
       "    </tr>\n",
       "  </tbody>\n",
       "</table>\n",
       "</div>"
      ],
      "text/plain": [
       "                           anonymous_id business_zoned context_app_version  \\\n",
       "0  9DDC5BCD-0477-4E83-A32A-51013DA0A4E7        Hamburg              3.1.13   \n",
       "1  5592E78E-CE87-4258-B8D7-DD834A687A1E        Hamburg              3.1.13   \n",
       "2  5592E78E-CE87-4258-B8D7-DD834A687A1E        Hamburg              3.1.13   \n",
       "3  5592E78E-CE87-4258-B8D7-DD834A687A1E        Hamburg              3.1.13   \n",
       "4  5592E78E-CE87-4258-B8D7-DD834A687A1E        Hamburg              3.1.13   \n",
       "\n",
       "                      context_device_id context_os_name  \\\n",
       "0  7A718FF6-584F-40E2-939D-224231295B1E             iOS   \n",
       "1  11D0CB16-DA38-4565-9C3B-066E7877856C             iOS   \n",
       "2  11D0CB16-DA38-4565-9C3B-066E7877856C             iOS   \n",
       "3  11D0CB16-DA38-4565-9C3B-066E7877856C             iOS   \n",
       "4  11D0CB16-DA38-4565-9C3B-066E7877856C             iOS   \n",
       "\n",
       "                        event_name     received_at      created_at  \n",
       "0  Out-Of-Business Zone View Shown  9/1/2020 23:59  9/1/2020 23:59  \n",
       "1               Application Opened  9/1/2020 23:59  9/1/2020 23:59  \n",
       "2           Ride Done - Successful  9/1/2020 23:59  9/1/2020 23:59  \n",
       "3               Application Opened  9/1/2020 23:59  9/1/2020 23:37  \n",
       "4         Ride Done - Unsuccessful  9/1/2020 23:59  9/1/2020 23:37  "
      ]
     },
     "execution_count": 2,
     "metadata": {},
     "output_type": "execute_result"
    }
   ],
   "source": [
    "df = pd.read_csv('mobile_events_2020.csv')\n",
    "df.head()"
   ]
  },
  {
   "cell_type": "code",
   "execution_count": 3,
   "metadata": {},
   "outputs": [
    {
     "name": "stdout",
     "output_type": "stream",
     "text": [
      "event_name\n",
      "Application Opened                     26047\n",
      "Scooter Selected - Auto                 8735\n",
      "Scooter Selected - User                 6999\n",
      "Ride Started - Pre-Ride                 6693\n",
      "Ride Done - Successful                  5165\n",
      "                                       ...  \n",
      "Paypal Dialogue - Cancel Pressed          18\n",
      "Customer Blocked - Phone Validation       16\n",
      "Paypal Error Shown                        10\n",
      "Location Services Enabled                  8\n",
      "Location Services Dialogue Opened          8\n",
      "Name: count, Length: 61, dtype: int64\n"
     ]
    }
   ],
   "source": [
    "count_sessions = df.value_counts('event_name')\n",
    "print(count_sessions)"
   ]
  },
  {
   "cell_type": "code",
   "execution_count": 5,
   "metadata": {},
   "outputs": [
    {
     "data": {
      "text/html": [
       "<div>\n",
       "<style scoped>\n",
       "    .dataframe tbody tr th:only-of-type {\n",
       "        vertical-align: middle;\n",
       "    }\n",
       "\n",
       "    .dataframe tbody tr th {\n",
       "        vertical-align: top;\n",
       "    }\n",
       "\n",
       "    .dataframe thead th {\n",
       "        text-align: right;\n",
       "    }\n",
       "</style>\n",
       "<table border=\"1\" class=\"dataframe\">\n",
       "  <thead>\n",
       "    <tr style=\"text-align: right;\">\n",
       "      <th></th>\n",
       "      <th>count</th>\n",
       "      <th>percent</th>\n",
       "    </tr>\n",
       "    <tr>\n",
       "      <th>event_name</th>\n",
       "      <th></th>\n",
       "      <th></th>\n",
       "    </tr>\n",
       "  </thead>\n",
       "  <tbody>\n",
       "    <tr>\n",
       "      <th>Application Opened</th>\n",
       "      <td>26047</td>\n",
       "      <td>25.431060</td>\n",
       "    </tr>\n",
       "    <tr>\n",
       "      <th>Scooter Selected - Auto</th>\n",
       "      <td>8735</td>\n",
       "      <td>8.528441</td>\n",
       "    </tr>\n",
       "    <tr>\n",
       "      <th>Scooter Selected - User</th>\n",
       "      <td>6999</td>\n",
       "      <td>6.833493</td>\n",
       "    </tr>\n",
       "    <tr>\n",
       "      <th>Ride Started - Pre-Ride</th>\n",
       "      <td>6693</td>\n",
       "      <td>6.534729</td>\n",
       "    </tr>\n",
       "    <tr>\n",
       "      <th>Ride Done - Successful</th>\n",
       "      <td>5165</td>\n",
       "      <td>5.042862</td>\n",
       "    </tr>\n",
       "    <tr>\n",
       "      <th>...</th>\n",
       "      <td>...</td>\n",
       "      <td>...</td>\n",
       "    </tr>\n",
       "    <tr>\n",
       "      <th>Paypal Dialogue - Cancel Pressed</th>\n",
       "      <td>18</td>\n",
       "      <td>0.017574</td>\n",
       "    </tr>\n",
       "    <tr>\n",
       "      <th>Customer Blocked - Phone Validation</th>\n",
       "      <td>16</td>\n",
       "      <td>0.015622</td>\n",
       "    </tr>\n",
       "    <tr>\n",
       "      <th>Paypal Error Shown</th>\n",
       "      <td>10</td>\n",
       "      <td>0.009764</td>\n",
       "    </tr>\n",
       "    <tr>\n",
       "      <th>Location Services Enabled</th>\n",
       "      <td>8</td>\n",
       "      <td>0.007811</td>\n",
       "    </tr>\n",
       "    <tr>\n",
       "      <th>Location Services Dialogue Opened</th>\n",
       "      <td>8</td>\n",
       "      <td>0.007811</td>\n",
       "    </tr>\n",
       "  </tbody>\n",
       "</table>\n",
       "<p>61 rows × 2 columns</p>\n",
       "</div>"
      ],
      "text/plain": [
       "                                     count    percent\n",
       "event_name                                           \n",
       "Application Opened                   26047  25.431060\n",
       "Scooter Selected - Auto               8735   8.528441\n",
       "Scooter Selected - User               6999   6.833493\n",
       "Ride Started - Pre-Ride               6693   6.534729\n",
       "Ride Done - Successful                5165   5.042862\n",
       "...                                    ...        ...\n",
       "Paypal Dialogue - Cancel Pressed        18   0.017574\n",
       "Customer Blocked - Phone Validation     16   0.015622\n",
       "Paypal Error Shown                      10   0.009764\n",
       "Location Services Enabled                8   0.007811\n",
       "Location Services Dialogue Opened        8   0.007811\n",
       "\n",
       "[61 rows x 2 columns]"
      ]
     },
     "execution_count": 5,
     "metadata": {},
     "output_type": "execute_result"
    }
   ],
   "source": [
    "df2 = count_sessions.to_frame()\n",
    "df2['percent'] = (df2['count']/ df2['count'].sum())*100\n",
    "df2"
   ]
  },
  {
   "cell_type": "markdown",
   "metadata": {},
   "source": [
    "Question_1: What is the % of sessions with an intention to book a scooter?\n",
    "\n",
    "Ans:    As per my analysis the %age of sessions with an intention to book a scooter is 25.43%"
   ]
  },
  {
   "cell_type": "markdown",
   "metadata": {},
   "source": [
    "Question_2: What is the % of sessions with a successful booking?\n",
    "\n",
    "Ans: The %age of sessions with successful booking is around 15%"
   ]
  },
  {
   "cell_type": "markdown",
   "metadata": {},
   "source": [
    "Question _3: What determines, according to you, an intention to book?\n",
    "\n",
    "Ans: According to me, number of time \"Application Opened\" determines an intention to book."
   ]
  },
  {
   "cell_type": "markdown",
   "metadata": {},
   "source": [
    "Question_4: What are factors, according to you, determining a successful booking?\n",
    "\n",
    "Ans: The factors determining a successful booking are the Scooter selected (Auto and User) and I have not considered canceled or unsuccessful rides as the question asks only for booking and not completed rides or successful rides "
   ]
  },
  {
   "cell_type": "markdown",
   "metadata": {},
   "source": []
  }
 ],
 "metadata": {
  "kernelspec": {
   "display_name": "Python 3",
   "language": "python",
   "name": "python3"
  },
  "language_info": {
   "codemirror_mode": {
    "name": "ipython",
    "version": 3
   },
   "file_extension": ".py",
   "mimetype": "text/x-python",
   "name": "python",
   "nbconvert_exporter": "python",
   "pygments_lexer": "ipython3",
   "version": "3.11.5"
  },
  "orig_nbformat": 4
 },
 "nbformat": 4,
 "nbformat_minor": 2
}
